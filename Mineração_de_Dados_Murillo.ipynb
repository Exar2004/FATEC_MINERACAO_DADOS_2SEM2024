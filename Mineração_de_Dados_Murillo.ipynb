{
  "nbformat": 4,
  "nbformat_minor": 0,
  "metadata": {
    "colab": {
      "provenance": [],
      "authorship_tag": "ABX9TyNl5BGJ1hf5qzKcu3z+RhCu",
      "include_colab_link": true
    },
    "kernelspec": {
      "name": "python3",
      "display_name": "Python 3"
    },
    "language_info": {
      "name": "python"
    }
  },
  "cells": [
    {
      "cell_type": "markdown",
      "metadata": {
        "id": "view-in-github",
        "colab_type": "text"
      },
      "source": [
        "<a href=\"https://colab.research.google.com/github/Exar2004/FATEC_MINERACAO_DADOS_2SEM2024/blob/main/Minera%C3%A7%C3%A3o_de_Dados_Murillo.ipynb\" target=\"_parent\"><img src=\"https://colab.research.google.com/assets/colab-badge.svg\" alt=\"Open In Colab\"/></a>"
      ]
    },
    {
      "cell_type": "markdown",
      "source": [
        "Atividade: Com base nos gráficos e análises realizadas, responda às seguintes\n",
        "perguntas:\n",
        "1. Quais padrões você observou nas variáveis numéricas? (exemplo:\n",
        "distribuição normal, outliers)\n",
        "2. Como estão distribuídas as variáveis categóricas? Alguma categoria se\n",
        "destaca em termos de frequência?\n",
        "3. Você identificou correlações entre variáveis numéricas? Qual pode ser a\n",
        "relação entre essas variáveis?\n",
        "4. Com base nos dados, quais são as principais conclusões que você pode\n",
        "tirar? O que essas conclusões indicam para o contexto do dataset\n",
        "escolhido"
      ],
      "metadata": {
        "id": "odfbdqsMXyfC"
      }
    },
    {
      "cell_type": "code",
      "execution_count": null,
      "metadata": {
        "id": "-_5JcVV8KL3S"
      },
      "outputs": [],
      "source": [
        "import pandas as pd\n",
        "#Suba o arquivo CSV no Colab\n",
        "from google.colab import files\n",
        "uploaded = files.upload()\n",
        "#Leia o dataset\n",
        "df = pd.read_csv('laptop_prices.csv')\n",
        "#Exiba as primeiras linhas do dataframe\n",
        "df.head()"
      ]
    },
    {
      "cell_type": "code",
      "source": [
        "df.isnull().sum()"
      ],
      "metadata": {
        "id": "1zhM4VraU8Gq"
      },
      "execution_count": null,
      "outputs": []
    },
    {
      "cell_type": "code",
      "source": [
        "df.describe()"
      ],
      "metadata": {
        "id": "uzCwXHrSuwBl"
      },
      "execution_count": null,
      "outputs": []
    }
  ]
}